{
 "cells": [
  {
   "cell_type": "code",
   "execution_count": 1,
   "id": "ef7892a0",
   "metadata": {},
   "outputs": [],
   "source": [
    "class Queue2Stacks: \n",
    "    def __init__(self): \n",
    "        # Two stacks\n",
    "        self.stack1 = []\n",
    "        self.stack2 = []\n",
    "        \n",
    "    def enqueue(self, element): \n",
    "        #FILL OUT CODE HERE\n",
    "        pass\n",
    "    def dequeue(self): \n",
    "        #FILL OUT CODE HERE\n",
    "        pass\n",
    "    \n",
    "    \n",
    "    "
   ]
  },
  {
   "cell_type": "code",
   "execution_count": 3,
   "id": "598135e8",
   "metadata": {},
   "outputs": [],
   "source": [
    "def test(): \n",
    "    q = Queue2Stacks()\n",
    "    for i in range(5): \n",
    "        q.enqueue(i)\n",
    "    for i in range(5):\n",
    "        print(q.dequeue())"
   ]
  },
  {
   "cell_type": "code",
   "execution_count": 4,
   "id": "9d3822df",
   "metadata": {},
   "outputs": [],
   "source": [
    "# q []\n",
    "# q.appened('0')\n",
    "# q.appened('1')\n",
    "# q.appened('2')\n",
    "# q.appened('3')\n",
    "# q.appened('4')\n"
   ]
  },
  {
   "cell_type": "code",
   "execution_count": 5,
   "id": "a98c55be",
   "metadata": {},
   "outputs": [],
   "source": [
    "# ...\n",
    "# method enqueue receives \"element\" as parameter: \n",
    "#    push element to stack1\n",
    "\n",
    "# method dequeue: \n",
    "#    while stack1 is not empty: \n",
    "#          element = stack1.pop()\n",
    "#          push element to stack2\n",
    "#    return stack2.pop()\n",
    "#..."
   ]
  },
  {
   "cell_type": "code",
   "execution_count": 6,
   "id": "0638e9ff",
   "metadata": {},
   "outputs": [
    {
     "name": "stdout",
     "output_type": "stream",
     "text": [
      "None\n",
      "None\n",
      "None\n",
      "None\n",
      "None\n"
     ]
    }
   ],
   "source": [
    "class Queue2Stacks: \n",
    "    def __init__(self): \n",
    "        self.stack1 = []\n",
    "        self.stack2 = []\n",
    "\n",
    "    def enqueue(self, element): \n",
    "        pass\n",
    "    \n",
    "    def dequeue(self): \n",
    "        pass\n",
    "        \n",
    "def test(): \n",
    "    q = Queue2Stacks()\n",
    "    for i in range(5): \n",
    "        q.enqueue(i)\n",
    "    for i in range(5): \n",
    "        print(q.dequeue())\n",
    "        \n",
    "test()"
   ]
  },
  {
   "cell_type": "code",
   "execution_count": 9,
   "id": "82df75f9",
   "metadata": {},
   "outputs": [
    {
     "name": "stdout",
     "output_type": "stream",
     "text": [
      "0\n",
      "1\n",
      "2\n",
      "3\n",
      "4\n"
     ]
    }
   ],
   "source": [
    "class Queue2Stacks: \n",
    "    def __init__(self): \n",
    "        self.stack1 = []\n",
    "        self.stack2 = []\n",
    "\n",
    "    def enqueue(self, element): \n",
    "        self.stack1.append(element)\n",
    "    \n",
    "    def dequeue(self): \n",
    "        while self.stack1 != []: \n",
    "            element = self.stack1.pop()\n",
    "            self.stack2.append(element)\n",
    "        return self.stack2.pop()\n",
    "        \n",
    "def test(): \n",
    "    q = Queue2Stacks()\n",
    "    for i in range(5): \n",
    "        q.enqueue(i)\n",
    "    for i in range(5): \n",
    "        print(q.dequeue())\n",
    "        \n",
    "test()"
   ]
  },
  {
   "cell_type": "code",
   "execution_count": 1,
   "id": "e9a1d7a9",
   "metadata": {},
   "outputs": [
    {
     "data": {
      "text/plain": [
       "3628800"
      ]
     },
     "execution_count": 1,
     "metadata": {},
     "output_type": "execute_result"
    }
   ],
   "source": [
    "def fact(n): \n",
    "    if n==0: \n",
    "        return 1\n",
    "    return n * fact(n-1)\n",
    "\n",
    "fact(10)"
   ]
  },
  {
   "cell_type": "code",
   "execution_count": 3,
   "id": "a2e814d5",
   "metadata": {},
   "outputs": [],
   "source": [
    "#We know that a fibonacci number is the sum of the two preceding \n",
    "# numbers in the series. F(n) = F(n-1) + F(n-2)\n",
    "\n",
    "#A good base case would be when n<2 because any\n",
    "\n",
    "def fib(n): \n",
    "    if n<2: \n",
    "        return n\n",
    "    return fib(n-1) + fib(n-2)"
   ]
  },
  {
   "cell_type": "code",
   "execution_count": 4,
   "id": "f2142511",
   "metadata": {},
   "outputs": [
    {
     "data": {
      "text/plain": [
       "21"
      ]
     },
     "execution_count": 4,
     "metadata": {},
     "output_type": "execute_result"
    }
   ],
   "source": [
    "fib(8)"
   ]
  },
  {
   "cell_type": "code",
   "execution_count": 5,
   "id": "dfac3b84",
   "metadata": {},
   "outputs": [
    {
     "data": {
      "text/plain": [
       "354224848179261915075"
      ]
     },
     "execution_count": 5,
     "metadata": {},
     "output_type": "execute_result"
    }
   ],
   "source": [
    "from functools import lru_cache\n",
    "\n",
    "@lru_cache\n",
    "def fib_2(n): \n",
    "    if n<2: \n",
    "        return n\n",
    "    return fib_2(n-1) + fib_2(n-2)\n",
    "\n",
    "fib_2(100)"
   ]
  },
  {
   "cell_type": "code",
   "execution_count": 10,
   "id": "c2604526",
   "metadata": {},
   "outputs": [],
   "source": [
    "fib_numbers = {}\n",
    "\n",
    "def fib_3(n): \n",
    "    if n in fib_numbers.keys(): \n",
    "        return fib_numbers.get(n)\n",
    "    else: \n",
    "        if n < 2: \n",
    "            return n\n",
    "        fib_numbers[n] = fib_3(n-1) + fib_3(n-2)\n",
    "        return fib_numbers.get(n)"
   ]
  },
  {
   "cell_type": "code",
   "execution_count": 11,
   "id": "21aefe04",
   "metadata": {},
   "outputs": [
    {
     "data": {
      "text/plain": [
       "21"
      ]
     },
     "execution_count": 11,
     "metadata": {},
     "output_type": "execute_result"
    }
   ],
   "source": [
    "fib_3(8)"
   ]
  },
  {
   "cell_type": "code",
   "execution_count": null,
   "id": "9d34f655",
   "metadata": {},
   "outputs": [],
   "source": []
  }
 ],
 "metadata": {
  "kernelspec": {
   "display_name": "Python 3 (ipykernel)",
   "language": "python",
   "name": "python3"
  },
  "language_info": {
   "codemirror_mode": {
    "name": "ipython",
    "version": 3
   },
   "file_extension": ".py",
   "mimetype": "text/x-python",
   "name": "python",
   "nbconvert_exporter": "python",
   "pygments_lexer": "ipython3",
   "version": "3.10.2"
  }
 },
 "nbformat": 4,
 "nbformat_minor": 5
}
