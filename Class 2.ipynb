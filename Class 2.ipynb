{
 "cells": [
  {
   "cell_type": "code",
   "execution_count": 1,
   "id": "2eac90b3",
   "metadata": {},
   "outputs": [],
   "source": [
    "# stacks: items on the base are items that have been in the longest (LIFO - last-in-first-out)\n",
    "# the back button is an example of a \"pop\" function where the webpage last used is brought back"
   ]
  },
  {
   "cell_type": "code",
   "execution_count": 3,
   "id": "40085278",
   "metadata": {},
   "outputs": [],
   "source": [
    "class Stack: \n",
    "    def __init__(self): \n",
    "        self.items = []\n",
    "    \n",
    "    def is_empty(self): \n",
    "        return self.items == []\n",
    "    \n",
    "    def push(self,item): \n",
    "        self.items.append(item)\n",
    "        \n",
    "    def pop(self): \n",
    "        return self.items.pop()\n",
    "    \n",
    "    def peek(self): \n",
    "        return self.items[len(self.items)-1]\n",
    "    \n",
    "    def size(self): \n",
    "        return len(self.items)"
   ]
  },
  {
   "cell_type": "markdown",
   "id": "423b5f66",
   "metadata": {},
   "source": [
    "# String Reversal\n",
    "### Using our stack class (above), create a function called \"reverse_str\" that takes a parameter \"s\" (string) and inverts it. \n",
    "```Example: \n",
    "s = \"Rafael\"\n",
    "o = reverse_str(s)\n",
    "print(o) == \"leafaR\"\n",
    "```"
   ]
  },
  {
   "cell_type": "code",
   "execution_count": 7,
   "id": "12080d19",
   "metadata": {},
   "outputs": [
    {
     "name": "stdout",
     "output_type": "stream",
     "text": [
      "Rafael\n"
     ]
    }
   ],
   "source": [
    "self == s\n",
    "s = \"Rafael\"\n",
    "print(self)"
   ]
  },
  {
   "cell_type": "code",
   "execution_count": 35,
   "id": "06eced8e",
   "metadata": {},
   "outputs": [
    {
     "data": {
      "text/plain": [
       "'leafaR'"
      ]
     },
     "execution_count": 35,
     "metadata": {},
     "output_type": "execute_result"
    }
   ],
   "source": [
    "\n",
    "def reverse_str(s): \n",
    "    mystack = Stack()\n",
    "    output = \"\"\n",
    "    \n",
    "    for letter in s: \n",
    "        mystack.push(letter)\n",
    "        \n",
    "    while mystack.is_empty() == False: \n",
    "        output += mystack.pop()\n",
    "    return output\n",
    "        \n",
    "reverse_str(\"Rafael\")"
   ]
  },
  {
   "cell_type": "code",
   "execution_count": 36,
   "id": "3faff30c",
   "metadata": {},
   "outputs": [],
   "source": [
    "# how to determine if a str is a palindrome\n",
    "def is_palindrome(mystring): \n",
    "    pivot1 = len(mystring)-1\n",
    "    pivot2 = 0\n",
    "#    the pivot points are looking at opposite sides of the str \n",
    "    while pivot2 <= pivot1: \n",
    "        if mystring[pivot1] != mystring[pivot2]: \n",
    "            return False\n",
    "        pivot2 += 1\n",
    "        pivot1 -= 1\n",
    "    return True\n",
    "# if you make it through all of the letters in the str w/o being kicked out then the func has to be True\n"
   ]
  },
  {
   "cell_type": "code",
   "execution_count": 38,
   "id": "19206b61",
   "metadata": {},
   "outputs": [],
   "source": [
    "# Queues: (FIFO: first-in-first-out)\n",
    "#     to add an item, use Enqueue (ex.push)\n",
    "#     to remove an item, use Dequeue (ex.pop)"
   ]
  },
  {
   "cell_type": "code",
   "execution_count": 39,
   "id": "7d08370f",
   "metadata": {},
   "outputs": [],
   "source": [
    "class Queue: \n",
    "    def __init__(self): \n",
    "        self.items = []\n",
    "        \n",
    "    def is_empty(self): \n",
    "        return self.items == []\n",
    "    \n",
    "    def enqueue(self,item): \n",
    "        self.items.insert(0,item)\n",
    "        \n",
    "    def dequeue(self): \n",
    "        return self.items.pop()\n",
    "    \n",
    "    def size(self): \n",
    "        return len(self.items)"
   ]
  },
  {
   "cell_type": "code",
   "execution_count": 40,
   "id": "05501e6c",
   "metadata": {},
   "outputs": [
    {
     "name": "stdout",
     "output_type": "stream",
     "text": [
      "R\n",
      "a\n",
      "f\n",
      "a\n",
      "e\n",
      "l\n"
     ]
    }
   ],
   "source": [
    "mystring = \"Rafael\"\n",
    "queue = Queue()\n",
    "\n",
    "for letter in mystring: \n",
    "    queue.enqueue(letter)\n",
    "    \n",
    "while queue.is_empty() != True: \n",
    "    print(queue.dequeue())"
   ]
  },
  {
   "cell_type": "markdown",
   "id": "6e3cf171",
   "metadata": {},
   "source": [
    "parenthesis have to be opening and closing (balanced)\n",
    "(), [], {} are the ones used -- don't worry about spaces\n",
    "\n",
    "def balance_check\n",
    "```\n",
    "string1 = \"(((([[[[{{{{}}}}]]]]))))\"    # balanced\n",
    "string2 = \"()()()[][](((([[[{}]]]))))\"  # also balanced\n",
    "string3 = \"((([[][][]])))\"              # balanced as well\n",
    "```"
   ]
  },
  {
   "cell_type": "code",
   "execution_count": null,
   "id": "112e0a9e",
   "metadata": {},
   "outputs": [],
   "source": [
    "def balance_check(s): \n",
    "    if len(s)%2 !=0:      # best case; O(1) aka Big O Linear\n",
    "        return False\n",
    "    opening = set(\"([{\") #in a set, any duplicates are not stored and are good for read operations\n",
    "    matches = set([       #this is a set of tuples that says what matches \n",
    "        (\"(\", \")\"),\n",
    "        (\"[\", \"]\"),\n",
    "        (\"{\", \"}\"),\n",
    "    ]) \n",
    "    stack = Stack()\n",
    "    for paren in s: \n",
    "        if paren in opening: \n",
    "            stack.push(paren)\n",
    "        else: \n",
    "            if stack.is_empty(): \n",
    "                return False\n",
    "            last_open = stack.pop()\n",
    "            if (last_open, paren) not in matches: \n",
    "                return False\n",
    "    return stack.is_empty()"
   ]
  }
 ],
 "metadata": {
  "kernelspec": {
   "display_name": "Python 3 (ipykernel)",
   "language": "python",
   "name": "python3"
  },
  "language_info": {
   "codemirror_mode": {
    "name": "ipython",
    "version": 3
   },
   "file_extension": ".py",
   "mimetype": "text/x-python",
   "name": "python",
   "nbconvert_exporter": "python",
   "pygments_lexer": "ipython3",
   "version": "3.10.2"
  }
 },
 "nbformat": 4,
 "nbformat_minor": 5
}
