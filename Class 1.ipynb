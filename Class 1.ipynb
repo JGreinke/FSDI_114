{
 "cells": [
  {
   "cell_type": "code",
   "execution_count": 1,
   "id": "17a1d53c",
   "metadata": {},
   "outputs": [
    {
     "name": "stdout",
     "output_type": "stream",
     "text": [
      "h\n",
      "e\n",
      "l\n",
      "l\n",
      "o\n",
      ",\n",
      " \n",
      "w\n",
      "o\n",
      "r\n",
      "l\n",
      "d\n"
     ]
    }
   ],
   "source": [
    "# # this is a \"for each\" loop\n",
    "# for letter in \"hello, world\": \n",
    "#     print(letter)"
   ]
  },
  {
   "cell_type": "markdown",
   "id": "137a9721",
   "metadata": {},
   "source": [
    "# Problem 1\n",
    "## Anagram check.\n",
    "\n",
    "#### Check if two strings are anagrams of each other considering the following: \n",
    "\n",
    "#### Given two strings(string_a and string_b) we must first validate that these are of equal length and that they use the same characters in the exact same amount of times. \n",
    "\n",
    "#### For example: cars and scar are anagrams but cars and scaar are not; Similarily, scar and sccr are not anagrams of each other. "
   ]
  },
  {
   "cell_type": "code",
   "execution_count": 2,
   "id": "2540ee77",
   "metadata": {},
   "outputs": [],
   "source": [
    "def is_anagram(string_a, string_b): \n",
    "    return sorted(string_a) == sorted(string_b)"
   ]
  },
  {
   "cell_type": "code",
   "execution_count": 3,
   "id": "69e504de",
   "metadata": {},
   "outputs": [
    {
     "ename": "NameError",
     "evalue": "name 'cars' is not defined",
     "output_type": "error",
     "traceback": [
      "\u001b[0;31m---------------------------------------------------------------------------\u001b[0m",
      "\u001b[0;31mNameError\u001b[0m                                 Traceback (most recent call last)",
      "Input \u001b[0;32mIn [3]\u001b[0m, in \u001b[0;36m<cell line: 1>\u001b[0;34m()\u001b[0m\n\u001b[0;32m----> 1\u001b[0m is_anagram(\u001b[43mcars\u001b[49m,scaar)\n",
      "\u001b[0;31mNameError\u001b[0m: name 'cars' is not defined"
     ]
    }
   ],
   "source": [
    "is_anagram(cars,scaar)"
   ]
  },
  {
   "cell_type": "code",
   "execution_count": 4,
   "id": "7dadfb1f",
   "metadata": {},
   "outputs": [
    {
     "data": {
      "text/plain": [
       "True"
      ]
     },
     "execution_count": 4,
     "metadata": {},
     "output_type": "execute_result"
    }
   ],
   "source": [
    "is_anagram(\"cars\",\"scar\")"
   ]
  },
  {
   "cell_type": "code",
   "execution_count": 6,
   "id": "873f6503",
   "metadata": {},
   "outputs": [
    {
     "name": "stdout",
     "output_type": "stream",
     "text": [
      "True\n"
     ]
    }
   ],
   "source": [
    "# pseudocode\n",
    "# function is_anagram, receive as params -> string_a, string_b: \n",
    "#      length_of_string_a = get_length_of(string_a)\n",
    "#      length_of_string_b = get_length_of(string_b)\n",
    "#      if length_of_string_a is not equal to length_of_string_b:\n",
    "#            return False\n",
    "#      anagram_jumble = new String()\n",
    "#      loop for the length of string_a: \n",
    "out = 0\n",
    "for letter in \"cars\": \n",
    "    out += ord(letter)\n",
    "out2 = 0\n",
    "for letter in \"scar\": \n",
    "    out2 += ord(letter)\n",
    "\n",
    "print (out == out2)"
   ]
  },
  {
   "cell_type": "code",
   "execution_count": 3,
   "id": "b9e51b31",
   "metadata": {},
   "outputs": [
    {
     "data": {
      "text/plain": [
       "True"
      ]
     },
     "execution_count": 3,
     "metadata": {},
     "output_type": "execute_result"
    }
   ],
   "source": [
    "def is_anagram(string_a, string_b): \n",
    "    string_a = ( string_a.replace(\" \", \"\")).lower()\n",
    "    string_b = ( string_b.replace(\" \", \"\")).lower()\n",
    "#     string_a = string_a.lower()\n",
    "#     string_b = string_b.lower()\n",
    "    if len(string_a) != len(string_b): \n",
    "        return False\n",
    "    char_times_a = dict()\n",
    "    char_times_b = dict()\n",
    "    for i in range(len(string_a)): \n",
    "#         if string_a[i] == \" \": \n",
    "#             continue\n",
    "        if string_a[i] not in char_times_a.keys(): \n",
    "            char_times_a[string_a[i]] = 1\n",
    "        else: \n",
    "            char_times_a[string_a[i]] += 1\n",
    "        if string_b[i] not in char_times_b.keys(): \n",
    "            char_times_b[string_b[i]] = 1\n",
    "        else: \n",
    "            char_times_b[string_b[i]] += 1\n",
    "    return char_times_a == char_times_b\n",
    "\n",
    "string_a = \"I am lord Voldemort\"\n",
    "string_b = \"Tom Marvolo Riddle\"\n",
    "\n",
    "is_anagram(string_a, string_b)"
   ]
  },
  {
   "cell_type": "code",
   "execution_count": 4,
   "id": "b63b2e99",
   "metadata": {},
   "outputs": [],
   "source": [
    "string_a = \"I am lord Voldemort\"\n",
    "string_b = \"Tom Marvolo Riddle\"\n",
    "\n",
    "# challenge: find a way to get is_anagram to return true for these values"
   ]
  },
  {
   "cell_type": "code",
   "execution_count": null,
   "id": "bfccff63",
   "metadata": {},
   "outputs": [],
   "source": []
  }
 ],
 "metadata": {
  "kernelspec": {
   "display_name": "Python 3 (ipykernel)",
   "language": "python",
   "name": "python3"
  },
  "language_info": {
   "codemirror_mode": {
    "name": "ipython",
    "version": 3
   },
   "file_extension": ".py",
   "mimetype": "text/x-python",
   "name": "python",
   "nbconvert_exporter": "python",
   "pygments_lexer": "ipython3",
   "version": "3.10.2"
  }
 },
 "nbformat": 4,
 "nbformat_minor": 5
}
